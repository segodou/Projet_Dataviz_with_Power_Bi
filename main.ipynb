{
 "cells": [
  {
   "cell_type": "code",
   "execution_count": 4,
   "metadata": {},
   "outputs": [],
   "source": [
    "import pandas as pd\n",
    "import numpy as np"
   ]
  },
  {
   "cell_type": "code",
   "execution_count": 2,
   "metadata": {},
   "outputs": [],
   "source": [
    "df =pd.read_excel(\"Telecom Company Call-Center-Dataset.xlsx\")"
   ]
  },
  {
   "cell_type": "code",
   "execution_count": 3,
   "metadata": {},
   "outputs": [
    {
     "data": {
      "text/plain": [
       "5000"
      ]
     },
     "execution_count": 3,
     "metadata": {},
     "output_type": "execute_result"
    }
   ],
   "source": [
    "len(df)"
   ]
  },
  {
   "cell_type": "code",
   "execution_count": 5,
   "metadata": {},
   "outputs": [
    {
     "data": {
      "text/html": [
       "<div>\n",
       "<style scoped>\n",
       "    .dataframe tbody tr th:only-of-type {\n",
       "        vertical-align: middle;\n",
       "    }\n",
       "\n",
       "    .dataframe tbody tr th {\n",
       "        vertical-align: top;\n",
       "    }\n",
       "\n",
       "    .dataframe thead th {\n",
       "        text-align: right;\n",
       "    }\n",
       "</style>\n",
       "<table border=\"1\" class=\"dataframe\">\n",
       "  <thead>\n",
       "    <tr style=\"text-align: right;\">\n",
       "      <th></th>\n",
       "      <th>Call Id</th>\n",
       "      <th>Agent</th>\n",
       "      <th>Date</th>\n",
       "      <th>Time</th>\n",
       "      <th>Topic</th>\n",
       "      <th>Answered (Y/N)</th>\n",
       "      <th>Resolved</th>\n",
       "      <th>Speed of answer in seconds</th>\n",
       "      <th>AvgTalkDuration</th>\n",
       "      <th>Satisfaction rating</th>\n",
       "      <th>Departement</th>\n",
       "    </tr>\n",
       "  </thead>\n",
       "  <tbody>\n",
       "    <tr>\n",
       "      <th>0</th>\n",
       "      <td>ID0001</td>\n",
       "      <td>Diane</td>\n",
       "      <td>2021-01-01</td>\n",
       "      <td>09:12:58</td>\n",
       "      <td>Contract related</td>\n",
       "      <td>Y</td>\n",
       "      <td>Y</td>\n",
       "      <td>109.0</td>\n",
       "      <td>00:02:23</td>\n",
       "      <td>3.0</td>\n",
       "      <td>Alpes-Maritimes</td>\n",
       "    </tr>\n",
       "    <tr>\n",
       "      <th>1</th>\n",
       "      <td>ID0002</td>\n",
       "      <td>Becky</td>\n",
       "      <td>2021-01-01</td>\n",
       "      <td>09:12:58</td>\n",
       "      <td>Technical Support</td>\n",
       "      <td>Y</td>\n",
       "      <td>N</td>\n",
       "      <td>70.0</td>\n",
       "      <td>00:04:02</td>\n",
       "      <td>3.0</td>\n",
       "      <td>Bouches-du-Rhône</td>\n",
       "    </tr>\n",
       "  </tbody>\n",
       "</table>\n",
       "</div>"
      ],
      "text/plain": [
       "  Call Id  Agent        Date      Time              Topic Answered (Y/N)  \\\n",
       "0  ID0001  Diane  2021-01-01  09:12:58   Contract related              Y   \n",
       "1  ID0002  Becky  2021-01-01  09:12:58  Technical Support              Y   \n",
       "\n",
       "  Resolved  Speed of answer in seconds AvgTalkDuration  Satisfaction rating  \\\n",
       "0        Y                       109.0        00:02:23                  3.0   \n",
       "1        N                        70.0        00:04:02                  3.0   \n",
       "\n",
       "        Departement  \n",
       "0   Alpes-Maritimes  \n",
       "1  Bouches-du-Rhône  "
      ]
     },
     "execution_count": 5,
     "metadata": {},
     "output_type": "execute_result"
    }
   ],
   "source": [
    "# Liste des départements de la région Provence-Alpes-Côte d'Azur\n",
    "departements_paca = ['Alpes-de-Haute-Provence', 'Hautes-Alpes', 'Alpes-Maritimes', 'Bouches-du-Rhône', 'Var', 'Vaucluse']\n",
    "\n",
    "# Ajout de la nouvelle colonne avec un département aléatoire\n",
    "df['Departement'] = np.random.choice(departements_paca, size=len(df))\n",
    "\n",
    "# Affichage du DataFrame avec la nouvelle colonne\n",
    "df.head(2)"
   ]
  },
  {
   "cell_type": "code",
   "execution_count": 6,
   "metadata": {},
   "outputs": [
    {
     "name": "stdout",
     "output_type": "stream",
     "text": [
      "Departement\n",
      "Bouches-du-Rhône           854\n",
      "Var                        851\n",
      "Hautes-Alpes               835\n",
      "Alpes-de-Haute-Provence    826\n",
      "Vaucluse                   825\n",
      "Alpes-Maritimes            809\n",
      "Name: count, dtype: int64\n"
     ]
    }
   ],
   "source": [
    "# Compter le nombre d'occurrences de chaque département\n",
    "repartition_departements = df['Departement'].value_counts()\n",
    "\n",
    "# Afficher la répartition des départements\n",
    "print(repartition_departements)"
   ]
  },
  {
   "cell_type": "code",
   "execution_count": 7,
   "metadata": {},
   "outputs": [],
   "source": [
    "df_commune = pd.read_excel(\"Liste commune.xlsx\")"
   ]
  },
  {
   "cell_type": "code",
   "execution_count": 10,
   "metadata": {},
   "outputs": [
    {
     "data": {
      "text/html": [
       "<div>\n",
       "<style scoped>\n",
       "    .dataframe tbody tr th:only-of-type {\n",
       "        vertical-align: middle;\n",
       "    }\n",
       "\n",
       "    .dataframe tbody tr th {\n",
       "        vertical-align: top;\n",
       "    }\n",
       "\n",
       "    .dataframe thead th {\n",
       "        text-align: right;\n",
       "    }\n",
       "</style>\n",
       "<table border=\"1\" class=\"dataframe\">\n",
       "  <thead>\n",
       "    <tr style=\"text-align: right;\">\n",
       "      <th></th>\n",
       "      <th>Code</th>\n",
       "      <th>Libellé</th>\n",
       "    </tr>\n",
       "  </thead>\n",
       "  <tbody>\n",
       "    <tr>\n",
       "      <th>0</th>\n",
       "      <td>4049</td>\n",
       "      <td>Château-Arnoux-Saint-Auban</td>\n",
       "    </tr>\n",
       "    <tr>\n",
       "      <th>1</th>\n",
       "      <td>4070</td>\n",
       "      <td>Digne-les-Bains</td>\n",
       "    </tr>\n",
       "  </tbody>\n",
       "</table>\n",
       "</div>"
      ],
      "text/plain": [
       "   Code                     Libellé\n",
       "0  4049  Château-Arnoux-Saint-Auban\n",
       "1  4070             Digne-les-Bains"
      ]
     },
     "execution_count": 10,
     "metadata": {},
     "output_type": "execute_result"
    }
   ],
   "source": [
    "df_commune.head(2)"
   ]
  },
  {
   "cell_type": "code",
   "execution_count": 11,
   "metadata": {},
   "outputs": [],
   "source": [
    "# Liste des communes Paca\n",
    "communes = df_commune['Code'].tolist()\n"
   ]
  },
  {
   "cell_type": "code",
   "execution_count": 12,
   "metadata": {},
   "outputs": [],
   "source": [
    "# Ajout de la nouvelle colonne avec un département aléatoire\n",
    "df['Code_Insee'] = np.random.choice(communes, size=len(df))"
   ]
  },
  {
   "cell_type": "code",
   "execution_count": 15,
   "metadata": {},
   "outputs": [],
   "source": [
    "# Fusion des deux DataFrames sur la colonne code INSEE\n",
    "df_resultat = pd.merge(df, df_commune, left_on='Code_Insee', right_on='Code', how='left')\n"
   ]
  },
  {
   "cell_type": "code",
   "execution_count": 18,
   "metadata": {},
   "outputs": [
    {
     "data": {
      "text/plain": [
       "5000"
      ]
     },
     "execution_count": 18,
     "metadata": {},
     "output_type": "execute_result"
    }
   ],
   "source": [
    "len(df_resultat)"
   ]
  },
  {
   "cell_type": "code",
   "execution_count": 29,
   "metadata": {},
   "outputs": [],
   "source": [
    "# Import de la nouvelle base  de données\n",
    "data = pd.read_excel(\"data.xlsx\")"
   ]
  },
  {
   "cell_type": "code",
   "execution_count": 30,
   "metadata": {},
   "outputs": [
    {
     "data": {
      "text/html": [
       "<div>\n",
       "<style scoped>\n",
       "    .dataframe tbody tr th:only-of-type {\n",
       "        vertical-align: middle;\n",
       "    }\n",
       "\n",
       "    .dataframe tbody tr th {\n",
       "        vertical-align: top;\n",
       "    }\n",
       "\n",
       "    .dataframe thead th {\n",
       "        text-align: right;\n",
       "    }\n",
       "</style>\n",
       "<table border=\"1\" class=\"dataframe\">\n",
       "  <thead>\n",
       "    <tr style=\"text-align: right;\">\n",
       "      <th></th>\n",
       "      <th>Call Id</th>\n",
       "      <th>Agent</th>\n",
       "      <th>Date</th>\n",
       "      <th>Time</th>\n",
       "      <th>Topic</th>\n",
       "      <th>Answered (Y/N)</th>\n",
       "      <th>Resolved</th>\n",
       "      <th>Speed of answer in seconds</th>\n",
       "      <th>AvgTalkDuration</th>\n",
       "      <th>Satisfaction rating</th>\n",
       "      <th>Departement</th>\n",
       "      <th>Code_Insee</th>\n",
       "      <th>Commune</th>\n",
       "      <th>Sentiment</th>\n",
       "    </tr>\n",
       "  </thead>\n",
       "  <tbody>\n",
       "    <tr>\n",
       "      <th>0</th>\n",
       "      <td>ID0001</td>\n",
       "      <td>Diane</td>\n",
       "      <td>2021-01-01</td>\n",
       "      <td>09:12:58</td>\n",
       "      <td>Contract related</td>\n",
       "      <td>Y</td>\n",
       "      <td>Y</td>\n",
       "      <td>109.0</td>\n",
       "      <td>00:02:23</td>\n",
       "      <td>3.0</td>\n",
       "      <td>Var</td>\n",
       "      <td>83090</td>\n",
       "      <td>Ollioules</td>\n",
       "      <td>Neutral</td>\n",
       "    </tr>\n",
       "    <tr>\n",
       "      <th>1</th>\n",
       "      <td>ID0002</td>\n",
       "      <td>Becky</td>\n",
       "      <td>2021-01-01</td>\n",
       "      <td>09:12:58</td>\n",
       "      <td>Technical Support</td>\n",
       "      <td>Y</td>\n",
       "      <td>N</td>\n",
       "      <td>70.0</td>\n",
       "      <td>00:04:02</td>\n",
       "      <td>3.0</td>\n",
       "      <td>Alpes-Maritimes</td>\n",
       "      <td>6033</td>\n",
       "      <td>Carros</td>\n",
       "      <td>Negative</td>\n",
       "    </tr>\n",
       "  </tbody>\n",
       "</table>\n",
       "</div>"
      ],
      "text/plain": [
       "  Call Id  Agent        Date      Time              Topic Answered (Y/N)  \\\n",
       "0  ID0001  Diane  2021-01-01  09:12:58   Contract related              Y   \n",
       "1  ID0002  Becky  2021-01-01  09:12:58  Technical Support              Y   \n",
       "\n",
       "  Resolved  Speed of answer in seconds AvgTalkDuration  Satisfaction rating  \\\n",
       "0        Y                       109.0        00:02:23                  3.0   \n",
       "1        N                        70.0        00:04:02                  3.0   \n",
       "\n",
       "       Departement  Code_Insee    Commune Sentiment  \n",
       "0              Var       83090  Ollioules   Neutral  \n",
       "1  Alpes-Maritimes        6033     Carros  Negative  "
      ]
     },
     "execution_count": 30,
     "metadata": {},
     "output_type": "execute_result"
    }
   ],
   "source": [
    "# Liste des sentiments\n",
    "sentiments = [\"Negative\", \"Neutral\", \"Very Negative\", \"Positive\", \"Very Positive\"]\n",
    "\n",
    "# Probabilités associées à chaque département (Var et Vaucluse sont plus représentés)\n",
    "probabilites = [0.15, 0.17, 0.13, 0.35, 0.2]\n",
    "\n",
    "# Ajout de la nouvelle colonne sentiment\n",
    "data['Sentiment'] = np.random.choice(sentiments, size=len(data), p=probabilites)\n",
    "\n",
    "# Affichage du DataFrame avec la nouvelle colonne\n",
    "data.head(2)"
   ]
  },
  {
   "cell_type": "code",
   "execution_count": 31,
   "metadata": {},
   "outputs": [
    {
     "name": "stdout",
     "output_type": "stream",
     "text": [
      "Sentiment\n",
      "Positive         1786\n",
      "Very Positive    1004\n",
      "Neutral           838\n",
      "Negative          733\n",
      "Very Negative     639\n",
      "Name: count, dtype: int64\n"
     ]
    }
   ],
   "source": [
    "# Compter le nombre d'occurrences de chaque département\n",
    "repartition_departements = data['Sentiment'].value_counts()\n",
    "\n",
    "# Afficher la répartition des départements\n",
    "print(repartition_departements)"
   ]
  },
  {
   "cell_type": "code",
   "execution_count": 32,
   "metadata": {},
   "outputs": [],
   "source": [
    "# Générer aléatoirement des durées entre 2 et 15 minutes (en secondes)\n",
    "data['Duree_Secondes'] = np.random.randint(120, 901, size=len(data))\n",
    "\n",
    "# Convertir les durées en format hh:mm:ss\n",
    "data['Heures'] = pd.to_datetime(data['Duree_Secondes'], unit='s').dt.strftime('%H:%M:%S')\n"
   ]
  },
  {
   "cell_type": "code",
   "execution_count": 34,
   "metadata": {},
   "outputs": [],
   "source": [
    "from datetime import datetime\n",
    "# Convertir la colonne 'Heures' en objet datetime\n",
    "data['Heu'] = pd.to_datetime(data['Heures'], format='%H:%M:%S').dt.time\n",
    "\n",
    "# Fonction pour calculer le nombre de minutes à partir d'un objet datetime.time\n",
    "def heure_en_minutes(heure):\n",
    "    return heure.hour * 60 + heure.minute\n",
    "\n",
    "# Appliquer la fonction à la colonne 'Heures' et créer une nouvelle colonne 'Minutes'\n",
    "data['Minutes'] = data['Heu'].apply(heure_en_minutes)"
   ]
  },
  {
   "cell_type": "code",
   "execution_count": 35,
   "metadata": {},
   "outputs": [
    {
     "data": {
      "text/html": [
       "<div>\n",
       "<style scoped>\n",
       "    .dataframe tbody tr th:only-of-type {\n",
       "        vertical-align: middle;\n",
       "    }\n",
       "\n",
       "    .dataframe tbody tr th {\n",
       "        vertical-align: top;\n",
       "    }\n",
       "\n",
       "    .dataframe thead th {\n",
       "        text-align: right;\n",
       "    }\n",
       "</style>\n",
       "<table border=\"1\" class=\"dataframe\">\n",
       "  <thead>\n",
       "    <tr style=\"text-align: right;\">\n",
       "      <th></th>\n",
       "      <th>Call Id</th>\n",
       "      <th>Agent</th>\n",
       "      <th>Date</th>\n",
       "      <th>Time</th>\n",
       "      <th>Topic</th>\n",
       "      <th>Answered (Y/N)</th>\n",
       "      <th>Resolved</th>\n",
       "      <th>Speed of answer in seconds</th>\n",
       "      <th>AvgTalkDuration</th>\n",
       "      <th>Satisfaction rating</th>\n",
       "      <th>Departement</th>\n",
       "      <th>Code_Insee</th>\n",
       "      <th>Commune</th>\n",
       "      <th>Sentiment</th>\n",
       "      <th>Duree_Secondes</th>\n",
       "      <th>Heures</th>\n",
       "      <th>Heu</th>\n",
       "      <th>Minutes</th>\n",
       "    </tr>\n",
       "  </thead>\n",
       "  <tbody>\n",
       "    <tr>\n",
       "      <th>0</th>\n",
       "      <td>ID0001</td>\n",
       "      <td>Diane</td>\n",
       "      <td>2021-01-01</td>\n",
       "      <td>09:12:58</td>\n",
       "      <td>Contract related</td>\n",
       "      <td>Y</td>\n",
       "      <td>Y</td>\n",
       "      <td>109.0</td>\n",
       "      <td>00:02:23</td>\n",
       "      <td>3.0</td>\n",
       "      <td>Var</td>\n",
       "      <td>83090</td>\n",
       "      <td>Ollioules</td>\n",
       "      <td>Neutral</td>\n",
       "      <td>844</td>\n",
       "      <td>00:14:04</td>\n",
       "      <td>00:14:04</td>\n",
       "      <td>14</td>\n",
       "    </tr>\n",
       "    <tr>\n",
       "      <th>1</th>\n",
       "      <td>ID0002</td>\n",
       "      <td>Becky</td>\n",
       "      <td>2021-01-01</td>\n",
       "      <td>09:12:58</td>\n",
       "      <td>Technical Support</td>\n",
       "      <td>Y</td>\n",
       "      <td>N</td>\n",
       "      <td>70.0</td>\n",
       "      <td>00:04:02</td>\n",
       "      <td>3.0</td>\n",
       "      <td>Alpes-Maritimes</td>\n",
       "      <td>6033</td>\n",
       "      <td>Carros</td>\n",
       "      <td>Negative</td>\n",
       "      <td>683</td>\n",
       "      <td>00:11:23</td>\n",
       "      <td>00:11:23</td>\n",
       "      <td>11</td>\n",
       "    </tr>\n",
       "  </tbody>\n",
       "</table>\n",
       "</div>"
      ],
      "text/plain": [
       "  Call Id  Agent        Date      Time              Topic Answered (Y/N)  \\\n",
       "0  ID0001  Diane  2021-01-01  09:12:58   Contract related              Y   \n",
       "1  ID0002  Becky  2021-01-01  09:12:58  Technical Support              Y   \n",
       "\n",
       "  Resolved  Speed of answer in seconds AvgTalkDuration  Satisfaction rating  \\\n",
       "0        Y                       109.0        00:02:23                  3.0   \n",
       "1        N                        70.0        00:04:02                  3.0   \n",
       "\n",
       "       Departement  Code_Insee    Commune Sentiment  Duree_Secondes    Heures  \\\n",
       "0              Var       83090  Ollioules   Neutral             844  00:14:04   \n",
       "1  Alpes-Maritimes        6033     Carros  Negative             683  00:11:23   \n",
       "\n",
       "        Heu  Minutes  \n",
       "0  00:14:04       14  \n",
       "1  00:11:23       11  "
      ]
     },
     "execution_count": 35,
     "metadata": {},
     "output_type": "execute_result"
    }
   ],
   "source": [
    "data.head(2)"
   ]
  },
  {
   "cell_type": "code",
   "execution_count": 36,
   "metadata": {},
   "outputs": [],
   "source": [
    "data.to_excel(\"data.xlsx\", index=False)"
   ]
  }
 ],
 "metadata": {
  "kernelspec": {
   "display_name": "base",
   "language": "python",
   "name": "python3"
  },
  "language_info": {
   "codemirror_mode": {
    "name": "ipython",
    "version": 3
   },
   "file_extension": ".py",
   "mimetype": "text/x-python",
   "name": "python",
   "nbconvert_exporter": "python",
   "pygments_lexer": "ipython3",
   "version": "3.11.5"
  }
 },
 "nbformat": 4,
 "nbformat_minor": 2
}
